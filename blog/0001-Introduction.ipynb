{
 "cells": [
  {
   "cell_type": "markdown",
   "id": "d0805dcc",
   "metadata": {},
   "source": [
    "# Events Introduction"
   ]
  },
  {
   "cell_type": "markdown",
   "id": "480aea47",
   "metadata": {},
   "source": [
    "Many systems generate events which can be useful for starting automation.  Monitoring and alerting systems can generate events that require some action.   UI dashboards can generate events from controls that are intended to initiate change in some other system. "
   ]
  },
  {
   "cell_type": "markdown",
   "id": "49a71278",
   "metadata": {},
   "source": [
    "In order to handle events in automation, we need to receive events from one or more sources. These sources could be webhooks, websockets, event buses, or files.   Once the events are read from a source they should be checked for a certain formatting and converted to a common format.   Then the structure of the data can be checked against "
   ]
  },
  {
   "cell_type": "code",
   "execution_count": null,
   "id": "b9b7cfe1",
   "metadata": {},
   "outputs": [],
   "source": []
  }
 ],
 "metadata": {
  "kernelspec": {
   "display_name": "Python 3 (ipykernel)",
   "language": "python",
   "name": "python3"
  },
  "language_info": {
   "codemirror_mode": {
    "name": "ipython",
    "version": 3
   },
   "file_extension": ".py",
   "mimetype": "text/x-python",
   "name": "python",
   "nbconvert_exporter": "python",
   "pygments_lexer": "ipython3",
   "version": "3.7.6"
  }
 },
 "nbformat": 4,
 "nbformat_minor": 5
}
